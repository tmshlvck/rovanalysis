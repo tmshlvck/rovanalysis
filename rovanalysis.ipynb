{
 "cells": [
  {
   "cell_type": "markdown",
   "metadata": {},
   "source": [
    "# MRT analysis:"
   ]
  },
  {
   "cell_type": "code",
   "execution_count": 1,
   "metadata": {
    "collapsed": false
   },
   "outputs": [],
   "source": [
    "import pandas as pd\n",
    "import numpy as np\n",
    "\n",
    "import matplotlib.pyplot as plt\n",
    "%matplotlib inline"
   ]
  },
  {
   "cell_type": "code",
   "execution_count": 3,
   "metadata": {
    "collapsed": false
   },
   "outputs": [
    {
     "name": "stdout",
     "output_type": "stream",
     "text": [
      "analyze.py      downloadrouteviews.sh  gencsv.py\n",
      "downloadris.sh  \u001b[0m\u001b[01;34mforward\u001b[0m/               \u001b[01;34mreverse\u001b[0m/\n",
      "prefix,src_peer,aspath\n",
      "188.227.158.0/24,5,\"['2497', '6939', '29134']\"\n",
      "188.227.158.0/24,8,\"['25152', '6939', '29134']\"\n",
      "188.227.159.0/24,5,\"['2497', '2603', '21320', '378']\"\n",
      "188.227.159.0/24,8,\"['25152', '6939', '21320', '378']\"\n"
     ]
    }
   ],
   "source": [
    "%ls rov-mrt/\n",
    "!head rov-mrt/forward/rcc06-bview.20170124.0800.gz.csv"
   ]
  },
  {
   "cell_type": "code",
   "execution_count": 10,
   "metadata": {
    "collapsed": false
   },
   "outputs": [
    {
     "name": "stdout",
     "output_type": "stream",
     "text": [
      "{28929, 20485, 6663, 37640, 29449, 263945, 25227, 13703, 32653, 52752, 4755, 52888, 4635, 8220, 39326, 20771, 262317, 9902, 16559, 37680, 202032, 327984, 24115, 34224, 53171, 3130, 37179, 50620, 262589, 59715, 3269, 5580, 13647, 4436, 8283, 43100, 52320, 37474, 1251, 263651, 8422, 51945, 8943, 263152, 14840, 24441}\n",
      "rov_possible=46 all=296\n",
      "count forward: 730\n",
      "count reverse: 696\n"
     ]
    }
   ],
   "source": [
    "import os\n",
    "\n",
    "rov_forward = {'188.227.158.0/24': 29134, '188.227.159.0/24': 378}\n",
    "rov_reverse = {'188.227.158.0/24': 378, '188.227.159.0/24': 29134}\n",
    "\n",
    "\n",
    "def is_valid(prefix, aspath, rov_vector):\n",
    "    if not prefix in rov_vector:\n",
    "        return 0\n",
    "    if rov_vector[prefix] == aspath[-1]:\n",
    "        return 1\n",
    "    else:\n",
    "        return -1\n",
    "\n",
    "def select_valid(csvdf, rov_vector):\n",
    "    return csvdf.apply(lambda row: is_valid(row['prefix'], get_aspath(row['aspath']), rov_vector), axis=1)\n",
    "\n",
    "def get_aspath(pylist):\n",
    "    return [int(asn) for asn in eval(pylist)]\n",
    "\n",
    "def analyze(path, rov_table):\n",
    "    asn = {}\n",
    "    for csvfn in os.listdir(path):\n",
    "        df = pd.read_csv(path+csvfn)\n",
    "        if df.empty:\n",
    "            continue\n",
    "        df['status'] = select_valid(df, rov_table)\n",
    "        for i,r in df.iterrows():\n",
    "            for a in get_aspath(r['aspath']):\n",
    "                if a in asn:\n",
    "                    asn[a].add(r['status'])\n",
    "                else:\n",
    "                    asn[a] = {r['status']}\n",
    "    return asn\n",
    "\n",
    "def count_rows(path):\n",
    "    res=0\n",
    "    for csvfn in os.listdir(path):\n",
    "        df = pd.read_csv(path+csvfn)\n",
    "        if df.empty:\n",
    "            continue\n",
    "        res+=df.shape[0]\n",
    "    return res\n",
    "\n",
    "f=analyze('rov-mrt/forward/', rov_forward)\n",
    "r=analyze('rov-mrt/reverse/', rov_reverse)\n",
    "\n",
    "def cmp(x, y):\n",
    "    for asn in set(x.keys()) | set(y.keys()):\n",
    "        yield (asn, (x[asn] if asn in x else set()) | (y[asn] if asn in y else set()))\n",
    "\n",
    "def find_rov(x,y):\n",
    "    res = dict(cmp(x,y))\n",
    "    for k in res.keys():\n",
    "        if res[k] == {1}:\n",
    "            yield k\n",
    "        \n",
    "rov=set(find_rov(f,r))\n",
    "print(str(rov))\n",
    "\n",
    "\n",
    "print(\"rov_possible=%d all=%d\"%(len(rov),len(f)))\n",
    "\n",
    "print(\"count forward: %d\" % count_rows('rov-mrt/forward/'))\n",
    "print(\"count reverse: %d\" % count_rows('rov-mrt/reverse/'))\n"
   ]
  },
  {
   "cell_type": "code",
   "execution_count": 5,
   "metadata": {
    "collapsed": false
   },
   "outputs": [
    {
     "name": "stdout",
     "output_type": "stream",
     "text": [
      "{(8283, 2), (3269, 2), (59715, 2), (3130, 2)}\n",
      "rov=4 all=296\n"
     ]
    }
   ],
   "source": [
    "def analyze_strict(path, rov_table, factor):\n",
    "    asn = {}\n",
    "    rk = list(rov_table.keys())\n",
    "    keys = {rk[0]:0, rk[1]:1}\n",
    "        \n",
    "    def gen_factor(status, prefix, factor):\n",
    "        if prefix in keys:\n",
    "            res =  [0, 0, 0, 0]\n",
    "            res[keys[prefix]+factor] = status\n",
    "            return tuple(res)\n",
    "        else:\n",
    "            return tuple(0)\n",
    "    \n",
    "    for csvfn in os.listdir(path):\n",
    "        df = pd.read_csv(path+csvfn)\n",
    "        if df.empty:\n",
    "            continue\n",
    "        df['status'] = select_valid(df, rov_table)\n",
    "        for i,r in df.iterrows():\n",
    "            for a in get_aspath(r['aspath']):\n",
    "                if a in asn:\n",
    "                    asn[a].add(gen_factor(r['status'], r['prefix'], factor))\n",
    "                else:\n",
    "                    asn[a] = set()\n",
    "                    asn[a].add(gen_factor(r['status'], r['prefix'], factor))\n",
    "    return asn\n",
    "\n",
    "f=analyze_strict('rov-mrt/forward/', rov_forward, 0)\n",
    "r=analyze_strict('rov-mrt/reverse/', rov_reverse, 2)\n",
    "\n",
    "def rank_rov(x, y):\n",
    "    def rank(row):\n",
    "        res = [0, 0, 0 ,0]\n",
    "        for vect in row:\n",
    "            for i,v in enumerate(vect):\n",
    "                if v < 0:\n",
    "                    return -1\n",
    "                if v == 1:\n",
    "                    res[i] = 1\n",
    "\n",
    "        if (res[0] or res[1]) and (res[2] or res[3]):\n",
    "            return 2\n",
    "        return 0\n",
    "    \n",
    "    res = dict(cmp(x,y))\n",
    "    for k in res.keys():\n",
    "        r = rank(res[k])\n",
    "        if r > 0:\n",
    "            yield (k, r)\n",
    "\n",
    "rov=set(rank_rov(f,r))\n",
    "print(str(rov))\n",
    "        \n",
    "print(\"rov=%d all=%d\"%(len(rov),len(f)))"
   ]
  },
  {
   "cell_type": "code",
   "execution_count": 6,
   "metadata": {
    "collapsed": false,
    "scrolled": true
   },
   "outputs": [
    {
     "name": "stdout",
     "output_type": "stream",
     "text": [
      "8283 ['8283', '6939', '29134']\n",
      "3130 ['3130', '1239', '6939', '29134']\n",
      "3130 ['3130', '1239', '6939', '29134']\n",
      "3269 ['59715', '3269', '6762', '6939', '29134']\n",
      "59715 ['59715', '3269', '6762', '6939', '29134']\n",
      "3130 ['3130', '1239', '3356', '5588', '29134']\n",
      "3130 ['3130', '1239', '3356', '5588', '29134']\n",
      "8283 ['8283', '2603', '21320', '378']\n",
      "8283 ['8283', '3356', '5588', '29134']\n",
      "59715 ['59715', '29449', '174', '21320', '378']\n",
      "3269 ['59715', '3269', '6762', '3356', '5588', '29134']\n",
      "59715 ['59715', '3269', '6762', '3356', '5588', '29134']\n"
     ]
    }
   ],
   "source": [
    "def find_aspath(path):\n",
    "    for csvfn in os.listdir(path):\n",
    "        df = pd.read_csv(path+csvfn)\n",
    "        if df.empty:\n",
    "            continue\n",
    "        for i,row in df.iterrows():\n",
    "            for asn,rand in rov:\n",
    "                if asn in get_aspath(row['aspath']):\n",
    "                    print(str(asn)+\" \"+row['aspath'])\n",
    "                    \n",
    "find_aspath('rov-mrt/forward/')\n",
    "find_aspath('rov-mrt/reverse/')"
   ]
  },
  {
   "cell_type": "markdown",
   "metadata": {},
   "source": [
    "# RIPE Atlas analysis"
   ]
  },
  {
   "cell_type": "code",
   "execution_count": null,
   "metadata": {
    "collapsed": false
   },
   "outputs": [
    {
     "name": "stdout",
     "output_type": "stream",
     "text": [
      "pair (7934009, 7934010) same=106 diff=31 incomplete=0\n",
      "pair (7934022, 7934023) same=819 diff=77 incomplete=13\n",
      "pair (7937437, 7937438) same=958 diff=18 incomplete=7\n",
      "pair (7942364, 7942365) same=967 diff=13 incomplete=7\n",
      "pair (7942381, 7942382) same=957 diff=19 incomplete=7\n",
      "pair (7942396, 7942397) same=957 diff=23 incomplete=8\n",
      "pair (7942403, 7942404) same=192 diff=1 incomplete=2\n",
      "pair (7942411, 7942412) same=133 diff=3 incomplete=0\n",
      "pair (7942417, 7942418) same=869 diff=33 incomplete=4\n",
      "pair (7942692, 7942693) same=870 diff=31 incomplete=3\n",
      "pair (7943542, 7943543) same=960 diff=15 incomplete=9\n",
      "pair (7943548, 7943549) same=964 diff=18 incomplete=5\n",
      "ROV affected probes:\n",
      "[12302, 28694, 12894, 12917, 29575, 25752, 18091, 26315, 26346, 6255, 14623, 12089, 12280, 24999, 30407, 30476, 18304, 10667, 31475, 3528, 28528, 4981, 30333, 6097, 6208, 23083, 15020, 19457, 19481, 16701, 21414, 29774, 26925, 31578, 31842, 11619, 15869, 12223, 19201, 26328, 138, 357, 433, 472, 586, 588, 747, 792, 1029, 1359, 1504, 2002, 4225, 4638, 2638, 2646, 2886, 2956, 3005, 3118, 3138, 3194, 3218, 3291, 3418, 3980, 4003]\n",
      "ROV count: 67\n",
      "no-ROV count: 4699\n",
      "Incomplete count: 33\n",
      "Working on reverted:\n",
      "pair (8780067, 8780068) same=954 diff=17 incomplete=7\n",
      "pair (8780071, 8780072) same=962 diff=16 incomplete=5\n",
      "pair (8780073, 8780074) same=946 diff=17 incomplete=3\n",
      "pair (8780076, 8780077) same=949 diff=16 incomplete=2\n",
      "pair (8780080, 8780081) same=947 diff=15 incomplete=6\n",
      "pair (8780084, 8780085) same=934 diff=26 incomplete=6\n",
      "pair (8780086, 8780087) same=937 diff=14 incomplete=4\n",
      "pair (8780089, 8780090) same=925 diff=16 incomplete=6\n",
      "ROV affected probes:\n",
      "[148, 516, 639, 863, 927, 1029, 1134, 1359, 1504, 2002, 2062, 2063, 2093, 2427, 2576, 2610, 2646, 4114, 4118, 4164, 4555, 4683, 4916, 4981, 6041, 2831, 2886, 2956, 3111, 3194, 3218, 3291, 3528, 6077, 6054, 10222, 6164, 10266, 10293, 6242, 6107, 10842, 11104, 11110, 11119, 11241, 11251, 11410, 11444, 11841, 12383, 12430, 12722, 12778, 12894, 12917, 12990, 13200, 13214, 13312, 13605, 13740, 12067, 12124, 12159, 12280, 16503, 16747, 16758, 17261, 17270, 17309, 17910, 17912, 15009, 15015, 15048, 15049, 15131, 15558, 15685, 20492, 20567, 20625, 18260, 18304, 18433, 18473, 18861, 18878, 19099, 19167, 19201, 19226, 19301, 19310, 19449, 19457, 19496, 19696, 19880, 19976, 20001, 20009, 20025, 20372, 20467, 20978, 20991, 21085, 21295, 21452, 21554, 21937, 22065, 22131, 22138, 22143, 22255, 22471, 23408, 24774, 24809, 24845, 24890, 25072, 25124, 25752, 26323, 26328, 26337, 26346, 26925, 27059, 27080, 27638, 27663]\n",
      "ROV count: 137\n",
      "no-ROV count: 7554\n",
      "Incomplete count: 39\n",
      "Summary:\n",
      "totals: rov=22 no-rov=3695 incomplete=104\n",
      "ROV ASNs: {29571, 3130, 8612, 11815, 25543, 49770, 34154, 34549, 197207, 20794, 8283, 62078} (12)\n",
      "NOROV ASNs: (2043)\n"
     ]
    }
   ],
   "source": [
    "import sys, os\n",
    "if not 'rov-atlas' in sys.path:\n",
    "    sys.path.append('rov-atlas')\n",
    "if 'defcompare_results_traceroute' in sys.modules:\n",
    "    del compare_results_traceroute\n",
    "import compare_results_traceroute\n",
    "\n",
    "os.chdir('rov-atlas')\n",
    "compare_results_traceroute.main()\n",
    "os.chdir('..')"
   ]
  },
  {
   "cell_type": "code",
   "execution_count": null,
   "metadata": {
    "collapsed": true
   },
   "outputs": [],
   "source": [
    "# 12 probable ROV ASNs, 2 manually verified - argentina & randy"
   ]
  },
  {
   "cell_type": "code",
   "execution_count": 3,
   "metadata": {
    "collapsed": false
   },
   "outputs": [
    {
     "data": {
      "image/png": "[encoded data removed]",
      "text/plain": [
       "<matplotlib.figure.Figure at 0x7fef98c328d0>"
      ]
     },
     "metadata": {},
     "output_type": "display_data"
    }
   ],
   "source": [
    "same1 = [819, 958, 967, 957, 957, 869, 870, 960, 964]\n",
    "diff1 = [77, 18, 13, 19, 23, 33, 31, 15, 18]\n",
    "incomp1 = [13, 7, 7, 7, 8, 4, 3, 9, 5]\n",
    "\n",
    "plt.plot(same1, 'o', label='Equal path', color='red')\n",
    "plt.plot(diff1, 'o', label='Different path', color='green')\n",
    "plt.plot(incomp1, 'o', label='Incomplete', color='orange')\n",
    "plt.legend()\n",
    "plt.xlabel('Measurement partition')\n",
    "plt.ylabel('Path pairs')\n",
    "plt.savefig('atlas-noise.eps', format='eps', dpi=1000)\n",
    "plt.show()"
   ]
  },
  {
   "cell_type": "markdown",
   "metadata": {},
   "source": [
    "# TCP capture experiment:"
   ]
  },
  {
   "cell_type": "markdown",
   "metadata": {
    "collapsed": true
   },
   "source": [
    "Using the >=3 distinct ROV-compliant hits in the rounds. (= this is basically upper bound)\n",
    "It takes few hours to finish the computations, so here are only the results using the last measurement round:\n",
    "\n",
    "```\n",
    "brill@tapir:~/ownCloud/rov/rov-tcp$ python analyzeexperiment.py \n",
    "Opening file cz/trace_20170626-145623.pcap\n",
    "Opening file cz/trace_20170627-145628.pcap\n",
    "Opening file il/trace_20170626-132057.pcap\n",
    "Opening file il/trace_20170627-132100.pcap\n",
    "Opening file cz/trace_20170623-222737.pcap\n",
    "Opening file cz/trace_20170624-214611.pcap\n",
    "Opening file cz/trace_20170625-214611.pcap\n",
    "Opening file il/trace_20170623-131652.pcap\n",
    "Opening file il/trace_20170624-131652.pcap\n",
    "Opening file il/trace_20170625-131945.pcap\n",
    "\n",
    "rov=201 norov=632570 unknown=45163 mismatch=0\n",
    "```"
   ]
  },
  {
   "cell_type": "code",
   "execution_count": 4,
   "metadata": {
    "collapsed": false
   },
   "outputs": [
    {
     "data": {
      "image/png": "[encoded data removed]",
      "text/plain": [
       "<matplotlib.figure.Figure at 0x7fef98591be0>"
      ]
     },
     "metadata": {},
     "output_type": "display_data"
    }
   ],
   "source": [
    "#x['il/trace_20170625-131945.pcap']=(161871, 212, 163012, 204)\n",
    "#x['cz/trace_20170625-214611.pcap']=(465714, 1511, 464355, 1519)\n",
    "#x['il/trace_20170624-131652.pcap']=(162650, 291, 163763, 300)\n",
    "#x['il/trace_20170626-132057.pcap']=(163037, 406, 162123, 383)\n",
    "#x['il/trace_20170627-132100.pcap']=(163112, 396, 162138, 385)\n",
    "#x['il/trace_20170623-131652.pcap']=(164068, 432, 165447, 442)\n",
    "#x['cz/trace_20170624-214611.pcap']=(467811, 5970, 466507, 5783)\n",
    "#x['cz/trace_20170627-145628.pcap']=(467351, 7429, 468338, 7527)\n",
    "#x['cz/trace_20170626-145623.pcap']=(467681, 7269, 468654, 7385)\n",
    "#x['cz/trace_20170623-222737.pcap']=(468794, 7564, 467643, 7515)\n",
    "\n",
    "\n",
    "il=[(164068, 432, 165447, 442), (162650, 291, 163763, 300), (161871, 212, 163012, 204), (163037, 406, 162123, 383), (163112, 396, 162138, 385)]\n",
    "cz=[(468794, 7564, 467643, 7515), (467811, 5970, 466507, 5783), (465714, 1511, 464355, 1519), (467681, 7269, 468654, 7385), (467351, 7429, 468338, 7527)]\n",
    "\n",
    "hit1=[]\n",
    "hit2=[]\n",
    "mis1=[]\n",
    "mis2=[]\n",
    "for i in range(0, len(cz)):\n",
    "    hit1.append(cz[i][0]+il[i][0])\n",
    "    hit2.append(cz[i][2]+il[i][2])\n",
    "    mis1.append(cz[i][1]+il[i][1])\n",
    "    mis2.append(cz[i][3]+il[i][3])\n",
    "\n",
    "#632570+45163+201=677934\n",
    "    \n",
    "loss1 = [677934 - h for (h,m) in zip(hit1,mis1)]\n",
    "loss2 = [677934 - h for (h,m) in zip(hit2,mis2)]\n",
    "\n",
    "fig, ax = plt.subplots()\n",
    "#plt.plot(hit1, '.', label='P1 reply received', color='blue')\n",
    "plt.plot(loss1, 'o', label='P1', color='green')\n",
    "#plt.plot(mis1, '.', label='P1 mismatch', color='red')\n",
    "#plt.plot(hit2, '+', label='P2 reply received', color='green')\n",
    "plt.plot(loss2, 'o', label='P2', color='orange')\n",
    "#plt.plot(mis2, '+', label='P2 mismatch', color='orange')\n",
    "\n",
    "plt.legend()\n",
    "plt.xlabel('Measurement rounds')\n",
    "plt.ylabel('Lost replies')\n",
    "ax.set_xticks([0,1,2,3,4])\n",
    "#ax.set_xticklabels(('Control plane', 'Atlas', 'TCP probes'))\n",
    "\n",
    "plt.savefig('capnoise.eps', format='eps', dpi=1000)\n",
    "plt.show()"
   ]
  },
  {
   "cell_type": "code",
   "execution_count": 5,
   "metadata": {
    "collapsed": false
   },
   "outputs": [
    {
     "data": {
      "image/png": "[encoded data removed]",
      "text/plain": [
       "<matplotlib.figure.Figure at 0x7fef98c32160>"
      ]
     },
     "metadata": {},
     "output_type": "display_data"
    }
   ],
   "source": [
    "fig, ax = plt.subplots()\n",
    "#plt.plot(hit1, '.', label='P1 reply received', color='blue')\n",
    "#plt.plot(loss1, '.', label='P1 loss')\n",
    "plt.plot(mis1, 'o', label='P1', color='red')\n",
    "#plt.plot(hit2, '+', label='P2 reply received', color='green')\n",
    "#plt.plot(loss2, '+', label='P2 loss')\n",
    "plt.plot(mis2, 'o', label='P2', color='blue')\n",
    "\n",
    "plt.legend()\n",
    "plt.xlabel('Measurement rounds')\n",
    "plt.ylabel('Mismatched replies')\n",
    "ax.set_xticks([0,1,2,3,4])\n",
    "#ax.set_xticklabels(('Control plane', 'Atlas', 'TCP probes'))\n",
    "\n",
    "plt.savefig('capnoise2.eps', format='eps', dpi=1000)\n",
    "plt.show()"
   ]
  },
  {
   "cell_type": "code",
   "execution_count": 22,
   "metadata": {
    "collapsed": false
   },
   "outputs": [
    {
     "data": {
      "image/png": "[encoded data removed]",
      "text/plain": [
       "<matplotlib.figure.Figure at 0x7fef98580710>"
      ]
     },
     "metadata": {},
     "output_type": "display_data"
    }
   ],
   "source": [
    "fig, ax = plt.subplots()\n",
    "plt.plot([0,1,2,3,4], loss1, 'o', label='lost to P1', color='green')\n",
    "plt.plot([0.05,1.05,2.05,3.05,4.05], loss2, 'o', label='lost to P2', color='orange')\n",
    "plt.plot([0,1,2,3,4], mis1, '+', label='mismatched to P1', color='red')\n",
    "plt.plot([0.05,1.05,2.05,3.05,4.05], mis2, '+', label='mismatched to P2', color='blue')\n",
    "plt.legend()\n",
    "plt.xlabel('Measurement rounds')\n",
    "plt.ylabel('Replies')\n",
    "ax.set_xticks([0,1,2,3,4])\n",
    "\n",
    "plt.savefig('combinednoise.eps', format='eps', dpi=1000)\n",
    "plt.show()"
   ]
  },
  {
   "cell_type": "code",
   "execution_count": 5,
   "metadata": {
    "collapsed": false
   },
   "outputs": [
    {
     "data": {
      "image/png": "[encoded data removed]",
      "text/plain": [
       "<matplotlib.figure.Figure at 0x7f2d3cdc2d30>"
      ]
     },
     "metadata": {},
     "output_type": "display_data"
    }
   ],
   "source": [
    "import numpy as np\n",
    "\n",
    "# just copy values from previous experiments\n",
    "norov = [84.5, 97.0, 93.30]\n",
    "rov = [1.35, 0.5, 0.03]\n",
    "unk = [15.5, 2.3, 6.66]\n",
    "\n",
    "width=0.2\n",
    "ind = np.arange(len(norov))*0.75\n",
    "\n",
    "fig, ax = plt.subplots()\n",
    "plt.bar(ind, rov, width, label='Protected', color='green')\n",
    "plt.bar(ind+width, unk, width, label='Unresolvable', color='orange')\n",
    "plt.bar(ind+width*2, norov, width, label='Insecure', color='red')\n",
    "plt.legend(bbox_to_anchor=(1.01, 1), loc=2, borderaxespad=0.)\n",
    "plt.xlabel('')\n",
    "plt.ylabel('%')\n",
    "#plt.yscale('log')\n",
    "ax.set_xticks(ind + width)\n",
    "ax.set_xticklabels(('Control plane', 'Atlas', 'TCP probes'))\n",
    "plt.savefig('comparison.eps', format='eps', dpi=1000, bbox_inches = 'tight')\n",
    "plt.show()"
   ]
  },
  {
   "cell_type": "code",
   "execution_count": 18,
   "metadata": {
    "collapsed": false
   },
   "outputs": [
    {
     "data": {
      "image/png": "[encoded data removed]",
      "text/plain": [
       "<matplotlib.figure.Figure at 0x7f2d3ce1ea90>"
      ]
     },
     "metadata": {},
     "output_type": "display_data"
    }
   ],
   "source": [
    "# this is a basic (randomized) simulation, real simulator is needed!!!\n",
    "\n",
    "import random\n",
    "\n",
    "extrapolate=False\n",
    "custlist='AS_customers.txt'\n",
    "\n",
    "rovconfirm={3130, 59715}\n",
    "rovlikely={28929, 20485, 6663, 37640, 29449, 263945, 25227, 13703, 32653, 52752, 4755, 52888, 4635, 8220,\n",
    "           39326, 20771, 262317, 9902, 16559, 37680, 202032, 327984, 24115, 34224, 53171, 3130, 37179, 50620,\n",
    "           262589, 59715, 3269, 5580, 13647, 4436, 8283, 43100, 52320, 37474, 1251, 263651, 8422, 51945, 8943,\n",
    "           263152, 14840, 24441, 29571, 3130, 8612, 25543, 11815, 49770, 34154, 34549, 197207, 20794, 8283, 62078}\n",
    "\n",
    "# the last line has been added form Atlas measurements\n",
    "\n",
    "def read_aslist(f):\n",
    "    with open(f, 'r') as fd:\n",
    "        for l in fd:\n",
    "            ls = l.split()\n",
    "            try:\n",
    "                yield (int(ls[0]), int(ls[1]))\n",
    "            except:\n",
    "                pass\n",
    "\n",
    "\n",
    "def normalize(n):\n",
    "    if n < 3:\n",
    "        return 0\n",
    "    if n < 20:\n",
    "        return 1\n",
    "    return int(n/20)\n",
    "            \n",
    "def resolve(rovlist, asdict):\n",
    "    result=1\n",
    "    for m in rovlist:\n",
    "        if m in asdict:\n",
    "            result+=normalize(asdict[m])\n",
    "    return 100*float(result)/(len(asdict.keys()))\n",
    "\n",
    "def sort_size(aslist, asdict):\n",
    "    #s = sorted(aslist, key=lambda x: asdict[x] if x in asdict else 0)[:-5]\n",
    "    #l=int(len(s)/4)\n",
    "    #return s[0:l] + s[3*l:4*l] + s[2*l:3*l:-1] + s[l:2*l]\n",
    "    return aslist\n",
    "\n",
    "def gen():\n",
    "    asdict = dict(read_aslist(custlist))\n",
    "    adopt=[]\n",
    "    x=[]\n",
    "    y=[]\n",
    "    \n",
    "    x.append(len(adopt))\n",
    "    y.append(resolve(adopt, asdict))\n",
    "    projection = {list(asdict.keys())[i] for i in [random.randrange(0, len(asdict.keys())) for r in range(0,20)]}\n",
    "    for m in sort_size(rovconfirm|rovlikely|projection, asdict):\n",
    "        adopt.append(m)\n",
    "        x.append(len(adopt))\n",
    "        y.append(resolve(adopt, asdict))\n",
    "        \n",
    "    plt.plot(x[::5], y[::5], \".-\")\n",
    "    plt.xlabel('Early deployments (autonomous systems)')\n",
    "    plt.ylabel('% of Internet protected')\n",
    "    #plt.annotate('current status', xy=(2, 0.03), xytext=(3, 0.2), arrowprops={'facecolor':'black', 'shrink':0.05})\n",
    "    plt.savefig('rovimp.eps', format='eps', dpi=1000)\n",
    "    plt.show()\n",
    "\n",
    "#    for i in range(1,100):\n",
    "#\tfor s in range(step):\n",
    "#        \tmi = random.randint(200,len(asdict.keys())-1)\n",
    "#        \tm = asdict.keys()[mi]\n",
    "#        \tadopt.append(m)\n",
    "#        print '%d %f' % (len(adopt), resolve(adopt, asdict))\n",
    "\n",
    "\n",
    "gen()"
   ]
  },
  {
   "cell_type": "code",
   "execution_count": null,
   "metadata": {
    "collapsed": true
   },
   "outputs": [],
   "source": []
  }
 ],
 "metadata": {
  "kernelspec": {
   "display_name": "Python 3",
   "language": "python",
   "name": "python3"
  },
  "language_info": {
   "codemirror_mode": {
    "name": "ipython",
    "version": 3
   },
   "file_extension": ".py",
   "mimetype": "text/x-python",
   "name": "python",
   "nbconvert_exporter": "python",
   "pygments_lexer": "ipython3",
   "version": "3.6.3"
  }
 },
 "nbformat": 4,
 "nbformat_minor": 2
}
